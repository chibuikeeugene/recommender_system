{
 "cells": [
  {
   "cell_type": "markdown",
   "metadata": {},
   "source": [
    "# Aim:\n",
    "- The aim is to build a machine-based recommendation engine to deliver personalized product recommendations more effectively across its entire customer base.\n",
    "\n",
    "# Data:\n",
    "- I contains about 73k logged users interactions on more than 3k public articles shared in the platform.\n",
    "\n",
    "### This dataset features some distinctive characteristics:\n",
    "\n",
    "- Item attributes: Articles' original URL, title, and content plain text are available in two languages (English and Portuguese).\n",
    "- Contextual information: Context of the users visits, like date/time, client (mobile native app / browser) and geolocation.\n",
    "- Logged users: All users are required to login in the platform, providing a long-term tracking of users preferences (not depending on cookies in devices).\n",
    "- Rich implicit feedback: Different interaction types were logged, making it possible to infer the user's level of interest in the articles (eg. comments > likes > views).\n",
    "- Multi-platform: Users interactions were tracked in different platforms (web browsers and mobile native apps)\n",
    "\n",
    "# Model Type:\n",
    "-  Collaborative and content based filtering\n",
    "\n",
    "# Data dictionary:\n",
    "\n"
   ]
  },
  {
   "cell_type": "markdown",
   "metadata": {},
   "source": [
    "# Import Libraries"
   ]
  },
  {
   "cell_type": "code",
   "execution_count": 1,
   "metadata": {},
   "outputs": [],
   "source": [
    "# Data manipulation\n",
    "import pandas as pd \n",
    "import numpy as np\n",
    "\n",
    "# Data visualization\n",
    "from matplotlib import pyplot as plt\n",
    "import seaborn as sns\n",
    "\n",
    "# Building the recommender system\n",
    "from tqdm import tqdm\n",
    "\n",
    "# Ignore warnings\n",
    "import warnings\n",
    "warnings.filterwarnings(\"ignore\")\n",
    "\n"
   ]
  },
  {
   "cell_type": "markdown",
   "metadata": {},
   "source": [
    "# Load Data"
   ]
  },
  {
   "cell_type": "code",
   "execution_count": 2,
   "metadata": {},
   "outputs": [],
   "source": [
    "shared_article_dataset = pd.read_csv('/Users/eugene/Personal_Projects/Real_ML_Project/recommender_system/research/shared_articles.csv')\n",
    "user_interaction_dataset = pd.read_csv('/Users/eugene/Personal_Projects/Real_ML_Project/recommender_system/research/users_interactions.csv')"
   ]
  },
  {
   "cell_type": "code",
   "execution_count": 3,
   "metadata": {},
   "outputs": [
    {
     "data": {
      "text/html": [
       "<div>\n",
       "<style scoped>\n",
       "    .dataframe tbody tr th:only-of-type {\n",
       "        vertical-align: middle;\n",
       "    }\n",
       "\n",
       "    .dataframe tbody tr th {\n",
       "        vertical-align: top;\n",
       "    }\n",
       "\n",
       "    .dataframe thead th {\n",
       "        text-align: right;\n",
       "    }\n",
       "</style>\n",
       "<table border=\"1\" class=\"dataframe\">\n",
       "  <thead>\n",
       "    <tr style=\"text-align: right;\">\n",
       "      <th></th>\n",
       "      <th>timestamp</th>\n",
       "      <th>eventType</th>\n",
       "      <th>contentId</th>\n",
       "      <th>authorPersonId</th>\n",
       "      <th>authorSessionId</th>\n",
       "      <th>authorUserAgent</th>\n",
       "      <th>authorRegion</th>\n",
       "      <th>authorCountry</th>\n",
       "      <th>contentType</th>\n",
       "      <th>url</th>\n",
       "      <th>title</th>\n",
       "      <th>text</th>\n",
       "      <th>lang</th>\n",
       "    </tr>\n",
       "  </thead>\n",
       "  <tbody>\n",
       "    <tr>\n",
       "      <th>0</th>\n",
       "      <td>1459192779</td>\n",
       "      <td>CONTENT REMOVED</td>\n",
       "      <td>-6451309518266745024</td>\n",
       "      <td>4340306774493623681</td>\n",
       "      <td>8940341205206233829</td>\n",
       "      <td>NaN</td>\n",
       "      <td>NaN</td>\n",
       "      <td>NaN</td>\n",
       "      <td>HTML</td>\n",
       "      <td>http://www.nytimes.com/2016/03/28/business/dea...</td>\n",
       "      <td>Ethereum, a Virtual Currency, Enables Transact...</td>\n",
       "      <td>All of this work is still very early. The firs...</td>\n",
       "      <td>en</td>\n",
       "    </tr>\n",
       "    <tr>\n",
       "      <th>1</th>\n",
       "      <td>1459193988</td>\n",
       "      <td>CONTENT SHARED</td>\n",
       "      <td>-4110354420726924665</td>\n",
       "      <td>4340306774493623681</td>\n",
       "      <td>8940341205206233829</td>\n",
       "      <td>NaN</td>\n",
       "      <td>NaN</td>\n",
       "      <td>NaN</td>\n",
       "      <td>HTML</td>\n",
       "      <td>http://www.nytimes.com/2016/03/28/business/dea...</td>\n",
       "      <td>Ethereum, a Virtual Currency, Enables Transact...</td>\n",
       "      <td>All of this work is still very early. The firs...</td>\n",
       "      <td>en</td>\n",
       "    </tr>\n",
       "    <tr>\n",
       "      <th>2</th>\n",
       "      <td>1459194146</td>\n",
       "      <td>CONTENT SHARED</td>\n",
       "      <td>-7292285110016212249</td>\n",
       "      <td>4340306774493623681</td>\n",
       "      <td>8940341205206233829</td>\n",
       "      <td>NaN</td>\n",
       "      <td>NaN</td>\n",
       "      <td>NaN</td>\n",
       "      <td>HTML</td>\n",
       "      <td>http://cointelegraph.com/news/bitcoin-future-w...</td>\n",
       "      <td>Bitcoin Future: When GBPcoin of Branson Wins O...</td>\n",
       "      <td>The alarm clock wakes me at 8:00 with stream o...</td>\n",
       "      <td>en</td>\n",
       "    </tr>\n",
       "    <tr>\n",
       "      <th>3</th>\n",
       "      <td>1459194474</td>\n",
       "      <td>CONTENT SHARED</td>\n",
       "      <td>-6151852268067518688</td>\n",
       "      <td>3891637997717104548</td>\n",
       "      <td>-1457532940883382585</td>\n",
       "      <td>NaN</td>\n",
       "      <td>NaN</td>\n",
       "      <td>NaN</td>\n",
       "      <td>HTML</td>\n",
       "      <td>https://cloudplatform.googleblog.com/2016/03/G...</td>\n",
       "      <td>Google Data Center 360° Tour</td>\n",
       "      <td>We're excited to share the Google Data Center ...</td>\n",
       "      <td>en</td>\n",
       "    </tr>\n",
       "    <tr>\n",
       "      <th>4</th>\n",
       "      <td>1459194497</td>\n",
       "      <td>CONTENT SHARED</td>\n",
       "      <td>2448026894306402386</td>\n",
       "      <td>4340306774493623681</td>\n",
       "      <td>8940341205206233829</td>\n",
       "      <td>NaN</td>\n",
       "      <td>NaN</td>\n",
       "      <td>NaN</td>\n",
       "      <td>HTML</td>\n",
       "      <td>https://bitcoinmagazine.com/articles/ibm-wants...</td>\n",
       "      <td>IBM Wants to \"Evolve the Internet\" With Blockc...</td>\n",
       "      <td>The Aite Group projects the blockchain market ...</td>\n",
       "      <td>en</td>\n",
       "    </tr>\n",
       "  </tbody>\n",
       "</table>\n",
       "</div>"
      ],
      "text/plain": [
       "    timestamp        eventType            contentId       authorPersonId  \\\n",
       "0  1459192779  CONTENT REMOVED -6451309518266745024  4340306774493623681   \n",
       "1  1459193988   CONTENT SHARED -4110354420726924665  4340306774493623681   \n",
       "2  1459194146   CONTENT SHARED -7292285110016212249  4340306774493623681   \n",
       "3  1459194474   CONTENT SHARED -6151852268067518688  3891637997717104548   \n",
       "4  1459194497   CONTENT SHARED  2448026894306402386  4340306774493623681   \n",
       "\n",
       "       authorSessionId authorUserAgent authorRegion authorCountry contentType  \\\n",
       "0  8940341205206233829             NaN          NaN           NaN        HTML   \n",
       "1  8940341205206233829             NaN          NaN           NaN        HTML   \n",
       "2  8940341205206233829             NaN          NaN           NaN        HTML   \n",
       "3 -1457532940883382585             NaN          NaN           NaN        HTML   \n",
       "4  8940341205206233829             NaN          NaN           NaN        HTML   \n",
       "\n",
       "                                                 url  \\\n",
       "0  http://www.nytimes.com/2016/03/28/business/dea...   \n",
       "1  http://www.nytimes.com/2016/03/28/business/dea...   \n",
       "2  http://cointelegraph.com/news/bitcoin-future-w...   \n",
       "3  https://cloudplatform.googleblog.com/2016/03/G...   \n",
       "4  https://bitcoinmagazine.com/articles/ibm-wants...   \n",
       "\n",
       "                                               title  \\\n",
       "0  Ethereum, a Virtual Currency, Enables Transact...   \n",
       "1  Ethereum, a Virtual Currency, Enables Transact...   \n",
       "2  Bitcoin Future: When GBPcoin of Branson Wins O...   \n",
       "3                       Google Data Center 360° Tour   \n",
       "4  IBM Wants to \"Evolve the Internet\" With Blockc...   \n",
       "\n",
       "                                                text lang  \n",
       "0  All of this work is still very early. The firs...   en  \n",
       "1  All of this work is still very early. The firs...   en  \n",
       "2  The alarm clock wakes me at 8:00 with stream o...   en  \n",
       "3  We're excited to share the Google Data Center ...   en  \n",
       "4  The Aite Group projects the blockchain market ...   en  "
      ]
     },
     "execution_count": 3,
     "metadata": {},
     "output_type": "execute_result"
    }
   ],
   "source": [
    "# explore the dataset\n",
    "shared_article_dataset.head()"
   ]
  },
  {
   "cell_type": "code",
   "execution_count": 4,
   "metadata": {},
   "outputs": [
    {
     "name": "stdout",
     "output_type": "stream",
     "text": [
      "<class 'pandas.core.frame.DataFrame'>\n",
      "RangeIndex: 3122 entries, 0 to 3121\n",
      "Data columns (total 13 columns):\n",
      " #   Column           Non-Null Count  Dtype \n",
      "---  ------           --------------  ----- \n",
      " 0   timestamp        3122 non-null   int64 \n",
      " 1   eventType        3122 non-null   object\n",
      " 2   contentId        3122 non-null   int64 \n",
      " 3   authorPersonId   3122 non-null   int64 \n",
      " 4   authorSessionId  3122 non-null   int64 \n",
      " 5   authorUserAgent  680 non-null    object\n",
      " 6   authorRegion     680 non-null    object\n",
      " 7   authorCountry    680 non-null    object\n",
      " 8   contentType      3122 non-null   object\n",
      " 9   url              3122 non-null   object\n",
      " 10  title            3122 non-null   object\n",
      " 11  text             3122 non-null   object\n",
      " 12  lang             3122 non-null   object\n",
      "dtypes: int64(4), object(9)\n",
      "memory usage: 317.2+ KB\n"
     ]
    }
   ],
   "source": [
    "shared_article_dataset.info()"
   ]
  },
  {
   "cell_type": "code",
   "execution_count": 5,
   "metadata": {},
   "outputs": [
    {
     "data": {
      "text/html": [
       "<div>\n",
       "<style scoped>\n",
       "    .dataframe tbody tr th:only-of-type {\n",
       "        vertical-align: middle;\n",
       "    }\n",
       "\n",
       "    .dataframe tbody tr th {\n",
       "        vertical-align: top;\n",
       "    }\n",
       "\n",
       "    .dataframe thead th {\n",
       "        text-align: right;\n",
       "    }\n",
       "</style>\n",
       "<table border=\"1\" class=\"dataframe\">\n",
       "  <thead>\n",
       "    <tr style=\"text-align: right;\">\n",
       "      <th></th>\n",
       "      <th>timestamp</th>\n",
       "      <th>eventType</th>\n",
       "      <th>contentId</th>\n",
       "      <th>personId</th>\n",
       "      <th>sessionId</th>\n",
       "      <th>userAgent</th>\n",
       "      <th>userRegion</th>\n",
       "      <th>userCountry</th>\n",
       "    </tr>\n",
       "  </thead>\n",
       "  <tbody>\n",
       "    <tr>\n",
       "      <th>0</th>\n",
       "      <td>1465413032</td>\n",
       "      <td>VIEW</td>\n",
       "      <td>-3499919498720038879</td>\n",
       "      <td>-8845298781299428018</td>\n",
       "      <td>1264196770339959068</td>\n",
       "      <td>NaN</td>\n",
       "      <td>NaN</td>\n",
       "      <td>NaN</td>\n",
       "    </tr>\n",
       "    <tr>\n",
       "      <th>1</th>\n",
       "      <td>1465412560</td>\n",
       "      <td>VIEW</td>\n",
       "      <td>8890720798209849691</td>\n",
       "      <td>-1032019229384696495</td>\n",
       "      <td>3621737643587579081</td>\n",
       "      <td>Mozilla/5.0 (Macintosh; Intel Mac OS X 10_11_2...</td>\n",
       "      <td>NY</td>\n",
       "      <td>US</td>\n",
       "    </tr>\n",
       "    <tr>\n",
       "      <th>2</th>\n",
       "      <td>1465416190</td>\n",
       "      <td>VIEW</td>\n",
       "      <td>310515487419366995</td>\n",
       "      <td>-1130272294246983140</td>\n",
       "      <td>2631864456530402479</td>\n",
       "      <td>NaN</td>\n",
       "      <td>NaN</td>\n",
       "      <td>NaN</td>\n",
       "    </tr>\n",
       "    <tr>\n",
       "      <th>3</th>\n",
       "      <td>1465413895</td>\n",
       "      <td>FOLLOW</td>\n",
       "      <td>310515487419366995</td>\n",
       "      <td>344280948527967603</td>\n",
       "      <td>-3167637573980064150</td>\n",
       "      <td>NaN</td>\n",
       "      <td>NaN</td>\n",
       "      <td>NaN</td>\n",
       "    </tr>\n",
       "    <tr>\n",
       "      <th>4</th>\n",
       "      <td>1465412290</td>\n",
       "      <td>VIEW</td>\n",
       "      <td>-7820640624231356730</td>\n",
       "      <td>-445337111692715325</td>\n",
       "      <td>5611481178424124714</td>\n",
       "      <td>NaN</td>\n",
       "      <td>NaN</td>\n",
       "      <td>NaN</td>\n",
       "    </tr>\n",
       "  </tbody>\n",
       "</table>\n",
       "</div>"
      ],
      "text/plain": [
       "    timestamp eventType            contentId             personId  \\\n",
       "0  1465413032      VIEW -3499919498720038879 -8845298781299428018   \n",
       "1  1465412560      VIEW  8890720798209849691 -1032019229384696495   \n",
       "2  1465416190      VIEW   310515487419366995 -1130272294246983140   \n",
       "3  1465413895    FOLLOW   310515487419366995   344280948527967603   \n",
       "4  1465412290      VIEW -7820640624231356730  -445337111692715325   \n",
       "\n",
       "             sessionId                                          userAgent  \\\n",
       "0  1264196770339959068                                                NaN   \n",
       "1  3621737643587579081  Mozilla/5.0 (Macintosh; Intel Mac OS X 10_11_2...   \n",
       "2  2631864456530402479                                                NaN   \n",
       "3 -3167637573980064150                                                NaN   \n",
       "4  5611481178424124714                                                NaN   \n",
       "\n",
       "  userRegion userCountry  \n",
       "0        NaN         NaN  \n",
       "1         NY          US  \n",
       "2        NaN         NaN  \n",
       "3        NaN         NaN  \n",
       "4        NaN         NaN  "
      ]
     },
     "execution_count": 5,
     "metadata": {},
     "output_type": "execute_result"
    }
   ],
   "source": [
    "user_interaction_dataset.head()"
   ]
  },
  {
   "cell_type": "code",
   "execution_count": 6,
   "metadata": {},
   "outputs": [
    {
     "data": {
      "text/plain": [
       "array(['VIEW', 'FOLLOW', 'BOOKMARK', 'LIKE', 'COMMENT CREATED'],\n",
       "      dtype=object)"
      ]
     },
     "execution_count": 6,
     "metadata": {},
     "output_type": "execute_result"
    }
   ],
   "source": [
    "user_interaction_dataset['eventType'].unique()"
   ]
  },
  {
   "cell_type": "code",
   "execution_count": 7,
   "metadata": {},
   "outputs": [
    {
     "name": "stdout",
     "output_type": "stream",
     "text": [
      "<class 'pandas.core.frame.DataFrame'>\n",
      "RangeIndex: 72312 entries, 0 to 72311\n",
      "Data columns (total 8 columns):\n",
      " #   Column       Non-Null Count  Dtype \n",
      "---  ------       --------------  ----- \n",
      " 0   timestamp    72312 non-null  int64 \n",
      " 1   eventType    72312 non-null  object\n",
      " 2   contentId    72312 non-null  int64 \n",
      " 3   personId     72312 non-null  int64 \n",
      " 4   sessionId    72312 non-null  int64 \n",
      " 5   userAgent    56918 non-null  object\n",
      " 6   userRegion   56907 non-null  object\n",
      " 7   userCountry  56918 non-null  object\n",
      "dtypes: int64(4), object(4)\n",
      "memory usage: 4.4+ MB\n"
     ]
    }
   ],
   "source": [
    "user_interaction_dataset.info()"
   ]
  },
  {
   "cell_type": "markdown",
   "metadata": {},
   "source": [
    "# Data Preprocessing"
   ]
  },
  {
   "cell_type": "code",
   "execution_count": 8,
   "metadata": {},
   "outputs": [
    {
     "data": {
      "text/html": [
       "<div>\n",
       "<style scoped>\n",
       "    .dataframe tbody tr th:only-of-type {\n",
       "        vertical-align: middle;\n",
       "    }\n",
       "\n",
       "    .dataframe tbody tr th {\n",
       "        vertical-align: top;\n",
       "    }\n",
       "\n",
       "    .dataframe thead th {\n",
       "        text-align: right;\n",
       "    }\n",
       "</style>\n",
       "<table border=\"1\" class=\"dataframe\">\n",
       "  <thead>\n",
       "    <tr style=\"text-align: right;\">\n",
       "      <th></th>\n",
       "      <th>timestamp</th>\n",
       "      <th>eventType</th>\n",
       "      <th>contentId</th>\n",
       "      <th>personId</th>\n",
       "      <th>sessionId</th>\n",
       "      <th>userAgent</th>\n",
       "      <th>userRegion</th>\n",
       "      <th>userCountry</th>\n",
       "      <th>eventTypeWeight</th>\n",
       "    </tr>\n",
       "  </thead>\n",
       "  <tbody>\n",
       "    <tr>\n",
       "      <th>0</th>\n",
       "      <td>1465413032</td>\n",
       "      <td>VIEW</td>\n",
       "      <td>-3499919498720038879</td>\n",
       "      <td>-8845298781299428018</td>\n",
       "      <td>1264196770339959068</td>\n",
       "      <td>NaN</td>\n",
       "      <td>NaN</td>\n",
       "      <td>NaN</td>\n",
       "      <td>1.0</td>\n",
       "    </tr>\n",
       "    <tr>\n",
       "      <th>1</th>\n",
       "      <td>1465412560</td>\n",
       "      <td>VIEW</td>\n",
       "      <td>8890720798209849691</td>\n",
       "      <td>-1032019229384696495</td>\n",
       "      <td>3621737643587579081</td>\n",
       "      <td>Mozilla/5.0 (Macintosh; Intel Mac OS X 10_11_2...</td>\n",
       "      <td>NY</td>\n",
       "      <td>US</td>\n",
       "      <td>1.0</td>\n",
       "    </tr>\n",
       "    <tr>\n",
       "      <th>2</th>\n",
       "      <td>1465416190</td>\n",
       "      <td>VIEW</td>\n",
       "      <td>310515487419366995</td>\n",
       "      <td>-1130272294246983140</td>\n",
       "      <td>2631864456530402479</td>\n",
       "      <td>NaN</td>\n",
       "      <td>NaN</td>\n",
       "      <td>NaN</td>\n",
       "      <td>1.0</td>\n",
       "    </tr>\n",
       "    <tr>\n",
       "      <th>3</th>\n",
       "      <td>1465413895</td>\n",
       "      <td>FOLLOW</td>\n",
       "      <td>310515487419366995</td>\n",
       "      <td>344280948527967603</td>\n",
       "      <td>-3167637573980064150</td>\n",
       "      <td>NaN</td>\n",
       "      <td>NaN</td>\n",
       "      <td>NaN</td>\n",
       "      <td>2.0</td>\n",
       "    </tr>\n",
       "    <tr>\n",
       "      <th>4</th>\n",
       "      <td>1465412290</td>\n",
       "      <td>VIEW</td>\n",
       "      <td>-7820640624231356730</td>\n",
       "      <td>-445337111692715325</td>\n",
       "      <td>5611481178424124714</td>\n",
       "      <td>NaN</td>\n",
       "      <td>NaN</td>\n",
       "      <td>NaN</td>\n",
       "      <td>1.0</td>\n",
       "    </tr>\n",
       "  </tbody>\n",
       "</table>\n",
       "</div>"
      ],
      "text/plain": [
       "    timestamp eventType            contentId             personId  \\\n",
       "0  1465413032      VIEW -3499919498720038879 -8845298781299428018   \n",
       "1  1465412560      VIEW  8890720798209849691 -1032019229384696495   \n",
       "2  1465416190      VIEW   310515487419366995 -1130272294246983140   \n",
       "3  1465413895    FOLLOW   310515487419366995   344280948527967603   \n",
       "4  1465412290      VIEW -7820640624231356730  -445337111692715325   \n",
       "\n",
       "             sessionId                                          userAgent  \\\n",
       "0  1264196770339959068                                                NaN   \n",
       "1  3621737643587579081  Mozilla/5.0 (Macintosh; Intel Mac OS X 10_11_2...   \n",
       "2  2631864456530402479                                                NaN   \n",
       "3 -3167637573980064150                                                NaN   \n",
       "4  5611481178424124714                                                NaN   \n",
       "\n",
       "  userRegion userCountry  eventTypeWeight  \n",
       "0        NaN         NaN              1.0  \n",
       "1         NY          US              1.0  \n",
       "2        NaN         NaN              1.0  \n",
       "3        NaN         NaN              2.0  \n",
       "4        NaN         NaN              1.0  "
      ]
     },
     "execution_count": 8,
     "metadata": {},
     "output_type": "execute_result"
    }
   ],
   "source": [
    "# replace event type in our user interaction dataframe with numerical weights.\n",
    "# create a map object\n",
    "\n",
    "event_map = {\n",
    "    'VIEW':1.0,\n",
    "    'FOLLOW':2.0,\n",
    "    'BOOKMARK':3.0,\n",
    "    'LIKE':4.0,\n",
    "    'COMMENT CREATED':5.0\n",
    "}\n",
    "\n",
    "user_interaction_dataset['eventTypeWeight'] =  user_interaction_dataset['eventType'].map(event_map)\n",
    "user_interaction_dataset.head()"
   ]
  },
  {
   "cell_type": "code",
   "execution_count": 24,
   "metadata": {},
   "outputs": [
    {
     "data": {
      "text/html": [
       "<div>\n",
       "<style scoped>\n",
       "    .dataframe tbody tr th:only-of-type {\n",
       "        vertical-align: middle;\n",
       "    }\n",
       "\n",
       "    .dataframe tbody tr th {\n",
       "        vertical-align: top;\n",
       "    }\n",
       "\n",
       "    .dataframe thead th {\n",
       "        text-align: right;\n",
       "    }\n",
       "</style>\n",
       "<table border=\"1\" class=\"dataframe\">\n",
       "  <thead>\n",
       "    <tr style=\"text-align: right;\">\n",
       "      <th></th>\n",
       "      <th>timestamp</th>\n",
       "      <th>eventType</th>\n",
       "      <th>contentId</th>\n",
       "      <th>personId</th>\n",
       "      <th>sessionId</th>\n",
       "      <th>userAgent</th>\n",
       "      <th>userRegion</th>\n",
       "      <th>userCountry</th>\n",
       "      <th>eventTypeWeight</th>\n",
       "    </tr>\n",
       "  </thead>\n",
       "  <tbody>\n",
       "    <tr>\n",
       "      <th>0</th>\n",
       "      <td>1465413032</td>\n",
       "      <td>VIEW</td>\n",
       "      <td>-3499919498720038879</td>\n",
       "      <td>-8845298781299428018</td>\n",
       "      <td>1264196770339959068</td>\n",
       "      <td>NaN</td>\n",
       "      <td>NaN</td>\n",
       "      <td>NaN</td>\n",
       "      <td>1.0</td>\n",
       "    </tr>\n",
       "    <tr>\n",
       "      <th>1</th>\n",
       "      <td>1465413046</td>\n",
       "      <td>VIEW</td>\n",
       "      <td>-3499919498720038879</td>\n",
       "      <td>-8845298781299428018</td>\n",
       "      <td>1264196770339959068</td>\n",
       "      <td>Mozilla/5.0 (Macintosh; Intel Mac OS X 10_11_5...</td>\n",
       "      <td>SP</td>\n",
       "      <td>BR</td>\n",
       "      <td>1.0</td>\n",
       "    </tr>\n",
       "    <tr>\n",
       "      <th>2</th>\n",
       "      <td>1464190235</td>\n",
       "      <td>VIEW</td>\n",
       "      <td>6437568358552101410</td>\n",
       "      <td>-8845298781299428018</td>\n",
       "      <td>-1157447994463607871</td>\n",
       "      <td>Mozilla/5.0 (Macintosh; Intel Mac OS X 10_11_4...</td>\n",
       "      <td>SP</td>\n",
       "      <td>BR</td>\n",
       "      <td>1.0</td>\n",
       "    </tr>\n",
       "    <tr>\n",
       "      <th>3</th>\n",
       "      <td>1459429221</td>\n",
       "      <td>VIEW</td>\n",
       "      <td>-4760639635023250284</td>\n",
       "      <td>-8845298781299428018</td>\n",
       "      <td>-5149610736659242149</td>\n",
       "      <td>Mozilla/5.0 (Macintosh; Intel Mac OS X 10_11_4...</td>\n",
       "      <td>SP</td>\n",
       "      <td>BR</td>\n",
       "      <td>1.0</td>\n",
       "    </tr>\n",
       "    <tr>\n",
       "      <th>4</th>\n",
       "      <td>1459274156</td>\n",
       "      <td>VIEW</td>\n",
       "      <td>-6142462826726347616</td>\n",
       "      <td>-8845298781299428018</td>\n",
       "      <td>-6283148774987755959</td>\n",
       "      <td>Mozilla/5.0 (Macintosh; Intel Mac OS X 10_11_4...</td>\n",
       "      <td>SP</td>\n",
       "      <td>BR</td>\n",
       "      <td>1.0</td>\n",
       "    </tr>\n",
       "  </tbody>\n",
       "</table>\n",
       "</div>"
      ],
      "text/plain": [
       "    timestamp eventType             contentId              personId  \\\n",
       "0  1465413032      VIEW  -3499919498720038879  -8845298781299428018   \n",
       "1  1465413046      VIEW  -3499919498720038879  -8845298781299428018   \n",
       "2  1464190235      VIEW   6437568358552101410  -8845298781299428018   \n",
       "3  1459429221      VIEW  -4760639635023250284  -8845298781299428018   \n",
       "4  1459274156      VIEW  -6142462826726347616  -8845298781299428018   \n",
       "\n",
       "              sessionId                                          userAgent  \\\n",
       "0   1264196770339959068                                                NaN   \n",
       "1   1264196770339959068  Mozilla/5.0 (Macintosh; Intel Mac OS X 10_11_5...   \n",
       "2  -1157447994463607871  Mozilla/5.0 (Macintosh; Intel Mac OS X 10_11_4...   \n",
       "3  -5149610736659242149  Mozilla/5.0 (Macintosh; Intel Mac OS X 10_11_4...   \n",
       "4  -6283148774987755959  Mozilla/5.0 (Macintosh; Intel Mac OS X 10_11_4...   \n",
       "\n",
       "  userRegion userCountry eventTypeWeight  \n",
       "0        NaN         NaN             1.0  \n",
       "1         SP          BR             1.0  \n",
       "2         SP          BR             1.0  \n",
       "3         SP          BR             1.0  \n",
       "4         SP          BR             1.0  "
      ]
     },
     "execution_count": 24,
     "metadata": {},
     "output_type": "execute_result"
    }
   ],
   "source": [
    "# next step, we select only users who have had reasonable interactions with articles. this is necessary to deal with issue of cold-starting\n",
    "# 5 interactions per user is okay for a start\n",
    "\n",
    "user_interaction_dataset_new = pd.DataFrame()\n",
    "\n",
    "\n",
    "for user in user_interaction_dataset['personId'].unique():\n",
    "    if len(user_interaction_dataset[user_interaction_dataset['personId'] == user]) > 5:\n",
    "        user_interaction_dataset_new = pd.concat([user_interaction_dataset_new,\n",
    "            pd.DataFrame(user_interaction_dataset[user_interaction_dataset['personId'] == user].values)], ignore_index=True)\n",
    "            \n",
    "\n",
    "\n",
    "user_interaction_dataset_new.columns =  user_interaction_dataset.columns\n",
    "user_interaction_dataset_new.head()"
   ]
  },
  {
   "cell_type": "code",
   "execution_count": 32,
   "metadata": {},
   "outputs": [
    {
     "name": "stdout",
     "output_type": "stream",
     "text": [
      "Users with at least 5 interactions: 1220\n",
      "All users with or without interactions: 1895\n"
     ]
    }
   ],
   "source": [
    "print('Users with at least 5 interactions: ' + str(len(user_interaction_dataset_new['personId'].unique())) )\n",
    "print('All users with or without interactions: ' + str(len(user_interaction_dataset['personId'].unique())) )"
   ]
  },
  {
   "cell_type": "code",
   "execution_count": 40,
   "metadata": {},
   "outputs": [
    {
     "data": {
      "text/html": [
       "<div>\n",
       "<style scoped>\n",
       "    .dataframe tbody tr th:only-of-type {\n",
       "        vertical-align: middle;\n",
       "    }\n",
       "\n",
       "    .dataframe tbody tr th {\n",
       "        vertical-align: top;\n",
       "    }\n",
       "\n",
       "    .dataframe thead th {\n",
       "        text-align: right;\n",
       "    }\n",
       "</style>\n",
       "<table border=\"1\" class=\"dataframe\">\n",
       "  <thead>\n",
       "    <tr style=\"text-align: right;\">\n",
       "      <th></th>\n",
       "      <th>personId</th>\n",
       "      <th>contentId</th>\n",
       "      <th>eventTypeWeight</th>\n",
       "    </tr>\n",
       "  </thead>\n",
       "  <tbody>\n",
       "    <tr>\n",
       "      <th>0</th>\n",
       "      <td>-9223121837663643404</td>\n",
       "      <td>-8949113594875411859</td>\n",
       "      <td>1.0</td>\n",
       "    </tr>\n",
       "    <tr>\n",
       "      <th>1</th>\n",
       "      <td>-9223121837663643404</td>\n",
       "      <td>-8377626164558006982</td>\n",
       "      <td>1.0</td>\n",
       "    </tr>\n",
       "    <tr>\n",
       "      <th>2</th>\n",
       "      <td>-9223121837663643404</td>\n",
       "      <td>-8208801367848627943</td>\n",
       "      <td>1.0</td>\n",
       "    </tr>\n",
       "    <tr>\n",
       "      <th>3</th>\n",
       "      <td>-9223121837663643404</td>\n",
       "      <td>-8187220755213888616</td>\n",
       "      <td>1.0</td>\n",
       "    </tr>\n",
       "    <tr>\n",
       "      <th>4</th>\n",
       "      <td>-9223121837663643404</td>\n",
       "      <td>-7423191370472335463</td>\n",
       "      <td>1.0</td>\n",
       "    </tr>\n",
       "  </tbody>\n",
       "</table>\n",
       "</div>"
      ],
      "text/plain": [
       "              personId            contentId eventTypeWeight\n",
       "0 -9223121837663643404 -8949113594875411859             1.0\n",
       "1 -9223121837663643404 -8377626164558006982             1.0\n",
       "2 -9223121837663643404 -8208801367848627943             1.0\n",
       "3 -9223121837663643404 -8187220755213888616             1.0\n",
       "4 -9223121837663643404 -7423191370472335463             1.0"
      ]
     },
     "execution_count": 40,
     "metadata": {},
     "output_type": "execute_result"
    }
   ],
   "source": [
    "# to model the user interest on a given article, we aggregate all the interactions the user has performed in an item by a\n",
    "#  weighted mean of interaction\n",
    "\n",
    "user_interaction_df =  user_interaction_dataset_new.groupby(['personId', 'contentId'])['eventTypeWeight'].mean().reset_index()\n",
    "user_interaction_df.head()"
   ]
  },
  {
   "cell_type": "code",
   "execution_count": 39,
   "metadata": {},
   "outputs": [
    {
     "data": {
      "text/plain": [
       "pandas.core.frame.DataFrame"
      ]
     },
     "execution_count": 39,
     "metadata": {},
     "output_type": "execute_result"
    }
   ],
   "source": [
    "type(a)"
   ]
  },
  {
   "cell_type": "markdown",
   "metadata": {},
   "source": []
  },
  {
   "cell_type": "code",
   "execution_count": null,
   "metadata": {},
   "outputs": [],
   "source": [
    "# Define our backend storage uri as well as our experiment\n",
    "tracking_uri = 'sqlite:///mlflow.db'\n",
    "mf.set_tracking_uri(tracking_uri)\n",
    "mf.set_experiment(experiment_name='recommender_exp')"
   ]
  },
  {
   "cell_type": "code",
   "execution_count": null,
   "metadata": {},
   "outputs": [],
   "source": [
    "# Disable autolog, as it isn't compactible with our current tensorflow version(2.16.1)\n",
    "mf.autolog(disable=True)"
   ]
  },
  {
   "cell_type": "code",
   "execution_count": null,
   "metadata": {},
   "outputs": [],
   "source": [
    "# retrieve the labels(i.e., targets/services) which of course represents the service a user is currently subscribed to\n",
    "# To achieve this, we can simply use the idxmax() function along the columns. This function returns the index of the maximum value for each row.\n",
    "raw_target = train_data.iloc[:, 22:].idxmax(axis=1)\n",
    "raw_target"
   ]
  },
  {
   "cell_type": "code",
   "execution_count": null,
   "metadata": {},
   "outputs": [],
   "source": [
    "from sklearn.preprocessing import LabelEncoder\n",
    "\n",
    "le = LabelEncoder()\n",
    "\n",
    "# call the label encoder fit_transform method on our raw_targets to obtain a numerical representation for each service name\n",
    "le.fit(raw_target)\n",
    "\n",
    "transformed_target = le.transform(raw_target)\n",
    "# create a new column known as service opted within the dataframe\n",
    "train_data['service_opted_for'] =  transformed_target\n",
    "\n",
    "# view the first few rows of the dataset\n",
    "train_data.head()"
   ]
  },
  {
   "cell_type": "code",
   "execution_count": null,
   "metadata": {},
   "outputs": [],
   "source": [
    "transformed_target"
   ]
  },
  {
   "cell_type": "code",
   "execution_count": null,
   "metadata": {},
   "outputs": [],
   "source": [
    "keys = le.classes_\n",
    "values =  le.transform(le.classes_)\n",
    "result = dict(zip(keys, values))\n",
    "result"
   ]
  },
  {
   "cell_type": "code",
   "execution_count": null,
   "metadata": {},
   "outputs": [],
   "source": [
    "with mf.start_run():    \n",
    "# let's log our encoder as an artifact in mlflow\n",
    "    mf.log_param('label encoder params during fit methos', result)\n",
    "\n",
    "mf.end_run()"
   ]
  },
  {
   "cell_type": "code",
   "execution_count": null,
   "metadata": {},
   "outputs": [],
   "source": [
    "# Checking the value count of the products\n",
    "plt.figure(figsize=(12,8))\n",
    "\n",
    "# Get the name and the occurences\n",
    "names = raw_target.value_counts().index\n",
    "values = raw_target.value_counts().values\n",
    "\n",
    "# Plot the plot\n",
    "ax = sns.barplot(x=names, y=values)\n",
    "\n",
    "# Set the title\n",
    "ax.set_title(\"Number Of Services Opted In Millions\")\n",
    "\n",
    "# Set the xticklabels and rotate\n",
    "ax.set_xticklabels(ax.get_xticklabels(), rotation=90)\n",
    "\n",
    "# Label the bars\n",
    "for p in ax.patches:\n",
    "    ax.annotate(\"{:.1f}\".format(p.get_height()), (p.get_x(), p.get_height()), rotation=25)\n",
    "\n",
    "# Show the plot\n",
    "plt.show()"
   ]
  },
  {
   "cell_type": "markdown",
   "metadata": {},
   "source": [
    "## Creating a User-Item interaction matrix( count )"
   ]
  },
  {
   "cell_type": "code",
   "execution_count": null,
   "metadata": {},
   "outputs": [],
   "source": [
    "train_data.ncodpers"
   ]
  },
  {
   "cell_type": "code",
   "execution_count": null,
   "metadata": {},
   "outputs": [],
   "source": [
    "# Our collaborative recommender system requires a user id, service id, and customer satisfaction rating, count or score. \n",
    "# Hence we would have to re-engineer new variable (we will create a customer satisfaction metric(service selection ratio) which can replace rating.)\n",
    "\n",
    "# Creating a user-item matrix, each entry indicates the number of times service opted by that user\n",
    "user_item_matrix = pd.crosstab(index=train_data.ncodpers, columns=transformed_target, values=1, aggfunc='sum')\n",
    "\n",
    "# Filling nan values as 0 as service is not opted\n",
    "user_item_matrix.fillna(0, inplace=True)\n",
    "\n",
    "# Print the user-item matrix(Represents Count)\n",
    "user_item_matrix"
   ]
  },
  {
   "cell_type": "code",
   "execution_count": null,
   "metadata": {},
   "outputs": [],
   "source": [
    "# Having calculated the number of times a user has opted for a service. Then for each user we will divide the count of \n",
    "# each service with the total number of services the user has opted throughout his/her banking journey.\n",
    "\n",
    "# Convert the user_item_matrix to array datatype\n",
    "uim_arr = np.array(user_item_matrix)\n",
    "\n",
    "# Iterate through each row(user)\n",
    "for row,item in tqdm(enumerate(uim_arr)):\n",
    "    # Iterate through each column(item)\n",
    "    for column,item_value in enumerate(item):\n",
    "        # Change the count of service opted to ratio\n",
    "        uim_arr[row, column] = uim_arr[row, column] / sum(item)\n",
    "        \n",
    "# Convert the array to dataframe for better view\n",
    "user_item_ratio_matrix = pd.DataFrame(uim_arr, columns=user_item_matrix.columns, index=user_item_matrix.index)\n",
    "\n",
    "# Print the user_item_ratio_matrix(Represents the ratio)\n",
    "user_item_ratio_matrix"
   ]
  },
  {
   "cell_type": "code",
   "execution_count": null,
   "metadata": {},
   "outputs": [],
   "source": [
    "\n",
    "\n",
    "# Stack the user_item_ratio_matrix to get all values in single column\n",
    "user_item_ratio_stacked = user_item_ratio_matrix.stack().to_frame()\n",
    "\n",
    "# Create column for user id\n",
    "user_item_ratio_stacked['ncodpers'] = [index[0] for index in user_item_ratio_stacked.index]\n",
    "\n",
    "# Create column for service_opted\n",
    "user_item_ratio_stacked['service_opted'] = [index[1] for index in user_item_ratio_stacked.index]\n",
    "\n",
    "# Reset and drop the index\n",
    "user_item_ratio_stacked.reset_index(drop=True, inplace=True)\n",
    "\n",
    "# Print the dataframe\n",
    "user_item_ratio_stacked"
   ]
  },
  {
   "cell_type": "code",
   "execution_count": null,
   "metadata": {},
   "outputs": [],
   "source": [
    "# Formating our final dataset\n",
    "\n",
    "# Rename the column 0 to service_selection_ratio\n",
    "user_item_ratio_stacked.rename(columns={0:\"service_selection_ratio\"}, inplace=True)\n",
    "\n",
    "# Arange the column systematicaly for better view\n",
    "user_item_ratio_stacked = user_item_ratio_stacked[['ncodpers','service_opted', 'service_selection_ratio']]\n",
    "\n",
    "# Drop all the rows with 0 entries as it means the user has never opted for the service\n",
    "user_item_ratio_stacked.drop(user_item_ratio_stacked[user_item_ratio_stacked['service_selection_ratio']==0].index, inplace=True)\n",
    "\n",
    "# Reset the index\n",
    "user_item_ratio_stacked.reset_index(drop=True, inplace=True)\n",
    "\n",
    "# Display the final dataframe\n",
    "user_item_ratio_stacked"
   ]
  },
  {
   "cell_type": "markdown",
   "metadata": {},
   "source": [
    "### The above final dataset suits our use case for application in collaborative filtering technique "
   ]
  },
  {
   "cell_type": "code",
   "execution_count": null,
   "metadata": {},
   "outputs": [],
   "source": [
    "# Encode user_id and item_id\n",
    "user_encoder = LabelEncoder()\n",
    "user_item_ratio_stacked['ncodpers'] = user_encoder.fit_transform(user_item_ratio_stacked['ncodpers'])\n",
    "\n",
    "service_encoder = LabelEncoder()\n",
    "user_item_ratio_stacked['service_opted'] = service_encoder.fit_transform(user_item_ratio_stacked['service_opted'])\n",
    "\n",
    "user_item_ratio_stacked.head()"
   ]
  },
  {
   "cell_type": "markdown",
   "metadata": {},
   "source": [
    "# Building our recommender system"
   ]
  },
  {
   "cell_type": "code",
   "execution_count": null,
   "metadata": {},
   "outputs": [],
   "source": [
    "# Creating surprise processable dataset\n",
    "# Initialize a surprise reader object\n",
    "reader = Reader(line_format='user item rating', sep=',', rating_scale=(0,1), skip_lines=1)\n",
    "\n",
    "# Load the data\n",
    "data = Dataset.load_from_df(user_item_ratio_stacked, reader=reader)\n"
   ]
  },
  {
   "cell_type": "code",
   "execution_count": null,
   "metadata": {},
   "outputs": [],
   "source": [
    "# use gridsearch to find best parametr for our svd model\n",
    "param_grid = {\"n_epochs\": [5, 10], \"lr_all\": [0.002, 0.005], \"reg_all\": [0.4, 0.6]}\n",
    "gs = GridSearchCV(SVD, param_grid, measures=[\"rmse\", \"mae\"], cv=3)\n",
    "\n",
    "gs.fit(data)\n",
    "\n",
    "# best RMSE score\n",
    "print(gs.best_score[\"rmse\"])\n",
    "print(gs.best_score[\"mae\"])\n",
    "# combination of parameters that gave the best RMSE score\n",
    "print(gs.best_params[\"rmse\"])"
   ]
  },
  {
   "cell_type": "code",
   "execution_count": null,
   "metadata": {},
   "outputs": [],
   "source": [
    "# We can now use the algorithm that yields the best rmse:\n",
    "algo = gs.best_estimator[\"rmse\"]\n",
    "trainset =  data.build_full_trainset()\n",
    "algo.fit(trainset)"
   ]
  },
  {
   "cell_type": "code",
   "execution_count": null,
   "metadata": {},
   "outputs": [],
   "source": [
    "def get_recommendation(uid, model, service_range):    \n",
    "    recommendations = [(uid, \n",
    "                        sid, \n",
    "                        le.inverse_transform([sid])[0], \n",
    "                        model.predict(uid, sid).est) for sid in range(service_range)]\n",
    "    # Convert to pandas dataframe\n",
    "    recommendations = pd.DataFrame(recommendations, columns=['uid', 'sid', 'service_name', 'pred'])\n",
    "    # Sort by pred\n",
    "    recommendations.sort_values(\"pred\", ascending=False, inplace=True)\n",
    "    # Reset index\n",
    "    recommendations.reset_index(drop=True, inplace=True)\n",
    "\n",
    "    print(recommendations.head())\n",
    "    # Return\n",
    "    return dict(services = list(recommendations.service_name))"
   ]
  },
  {
   "cell_type": "code",
   "execution_count": null,
   "metadata": {},
   "outputs": [],
   "source": [
    "get_recommendation(15890.0, algo, 10)"
   ]
  },
  {
   "cell_type": "markdown",
   "metadata": {},
   "source": [
    "# The next phase aims to prepare our dataset for a content-based filtering algorithm"
   ]
  },
  {
   "cell_type": "code",
   "execution_count": null,
   "metadata": {},
   "outputs": [],
   "source": [
    "# We will start by removing records with no details about the user. This is necessary because for the choice of algorithm we require attributes\n",
    "# of our users.\n",
    "\n",
    "# Dropping rows with no useful data\n",
    "train_data.drop(train_data[train_data['ind_empleado'].isnull()].index, axis=0, inplace=True)\n",
    "\n",
    "# Dropping rows with no useful data\n",
    "train_data.drop(train_data[train_data['ind_nomina_ult1'].isnull()].index, axis=0, inplace=True)\n",
    "\n",
    "# Dropping one-hot encoded columns of services\n",
    "train_data.drop(columns=train_data.iloc[:1,22:-1].columns, inplace=True)\n",
    "\n",
    "# Print the dataframe\n",
    "train_data.head()"
   ]
  },
  {
   "cell_type": "code",
   "execution_count": null,
   "metadata": {},
   "outputs": [],
   "source": [
    "# Checking the null value for all columns\n",
    "(train_data.isnull().sum()/len(train_data))*100"
   ]
  },
  {
   "cell_type": "code",
   "execution_count": null,
   "metadata": {},
   "outputs": [],
   "source": [
    "# Filling renta with its mean\n",
    "train_data['renta'].fillna(train_data['renta'].mean(), inplace=True)\n",
    "\n",
    "# Filling cod_prov with its mode\n",
    "train_data['cod_prov'].fillna(train_data['cod_prov'].mode()[0], inplace=True)\n",
    "\n",
    "# Filling indrel_1mes with its mode\n",
    "train_data['indrel_1mes'].fillna(train_data['indrel_1mes'].mode()[0], inplace=True)"
   ]
  },
  {
   "cell_type": "code",
   "execution_count": null,
   "metadata": {},
   "outputs": [],
   "source": [
    "# Check unique category for all categorical variables\n",
    "# List of names of columns of type object\n",
    "obj_cols = train_data.select_dtypes('object')\n",
    "\n",
    "# Iterate through each column\n",
    "for col in obj_cols:\n",
    "    print(\"*\"*5,col,\"*\"*5)\n",
    "    # Print its unique value\n",
    "    print(train_data[col].unique(),\"\\n\\n\")"
   ]
  },
  {
   "cell_type": "code",
   "execution_count": null,
   "metadata": {},
   "outputs": [],
   "source": [
    "# Correcting the categories of column - indrel_1mes\n",
    "train_data['indrel_1mes'].replace('1', 1, inplace=True)\n",
    "train_data['indrel_1mes'].replace('1.0', 1, inplace=True)\n",
    "train_data['indrel_1mes'].replace('2', 2, inplace=True)\n",
    "train_data['indrel_1mes'].replace('2.0', 2, inplace=True)\n",
    "train_data['indrel_1mes'].replace('3', 3, inplace=True)\n",
    "train_data['indrel_1mes'].replace('3.0', 3, inplace=True)\n",
    "train_data['indrel_1mes'].replace('4', 4, inplace=True)\n",
    "train_data['indrel_1mes'].replace('4.0', 4, inplace=True)\n",
    "train_data['indrel_1mes'].replace('P', 5, inplace=True)\n",
    "train_data['indrel_1mes'].replace('None',np.nan, inplace=True)\n",
    "\n",
    "# Print dataframe\n",
    "train_data.head()"
   ]
  },
  {
   "cell_type": "markdown",
   "metadata": {},
   "source": [
    "## Encoding categorical variables"
   ]
  },
  {
   "cell_type": "code",
   "execution_count": null,
   "metadata": {},
   "outputs": [],
   "source": [
    "# List of columns to encode\n",
    "cols_to_encode = ['ind_empleado', 'pais_residencia', 'sexo', 'indrel', 'tiprel_1mes', 'indresi', 'indext', 'canal_entrada', 'indfall', 'segmento']\n",
    "\n",
    "# List of label encoders which will be used for transformations later\n",
    "label_encoders = []\n",
    "\n",
    "# Create Label encode these columns iteratively\n",
    "for col in tqdm(cols_to_encode):\n",
    "    # Initialize a label encoder object\n",
    "    lab_enc = LabelEncoder()\n",
    "    \n",
    "    # Encode the column and replace it with existing\n",
    "    train_data[col] = lab_enc.fit_transform(train_data[col])\n",
    "    \n",
    "    # Append it in the label_encoders list to use it later\n",
    "    label_encoders.append(lab_enc)\n",
    "    \n",
    "# Print the data\n",
    "train_data.head()"
   ]
  },
  {
   "cell_type": "code",
   "execution_count": null,
   "metadata": {},
   "outputs": [],
   "source": [
    "# Deleting column 'nomprov' as we already have its encoded feature(cod_prov)\n",
    "train_data.drop(columns=['nomprov'], inplace=True)\n",
    "\n",
    "# Deleting column tipodom as all values are '1'\n",
    "train_data.drop(columns=['tipodom'], inplace=True)\n",
    "\n",
    "# Print the dataframe\n",
    "train_data.head()"
   ]
  },
  {
   "cell_type": "markdown",
   "metadata": {},
   "source": [
    "## Choosing recent transaction for each user"
   ]
  },
  {
   "cell_type": "code",
   "execution_count": null,
   "metadata": {},
   "outputs": [],
   "source": [
    "# Selecting non-duplicate rows(unique) and saving the latest transaction by giving parameter keep='last'\n",
    "user_data = train_data[train_data['ncodpers'].duplicated(keep='last')]\n",
    "\n",
    "# Reset the index\n",
    "user_data.reset_index(drop=True, inplace=True)\n",
    "\n",
    "# Print the head\n",
    "user_data.head()"
   ]
  },
  {
   "cell_type": "markdown",
   "metadata": {},
   "source": [
    "## TO BE CONTINUED"
   ]
  },
  {
   "cell_type": "markdown",
   "metadata": {},
   "source": []
  }
 ],
 "metadata": {
  "kernelspec": {
   "display_name": ".venv",
   "language": "python",
   "name": "python3"
  },
  "language_info": {
   "codemirror_mode": {
    "name": "ipython",
    "version": 3
   },
   "file_extension": ".py",
   "mimetype": "text/x-python",
   "name": "python",
   "nbconvert_exporter": "python",
   "pygments_lexer": "ipython3",
   "version": "3.10.12"
  }
 },
 "nbformat": 4,
 "nbformat_minor": 2
}
